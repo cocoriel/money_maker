{
 "cells": [
  {
   "cell_type": "code",
   "execution_count": null,
   "metadata": {},
   "outputs": [],
   "source": [
    "import urllib.parse\n",
    "import pandas as pd\n",
    "import pymongo\n",
    "import datetime"
   ]
  },
  {
   "cell_type": "code",
   "execution_count": null,
   "metadata": {},
   "outputs": [],
   "source": [
    "MARKET_CODE_DICT = {\n",
    "    'kospi': 'stockMkt',\n",
    "    'kosdaq': 'kosdaqMkt',\n",
    "    'konex': 'konexMkt'\n",
    "}\n",
    "\n",
    "DOWNLOAD_URL = 'kind.krx.co.kr/corpgeneral/corpList.do'\n",
    "\n",
    "def download_stock_codes(market=None, delisted=False):\n",
    "    \n",
    "    params = {'method': 'download'}\n",
    "\n",
    "    if market.lower() in MARKET_CODE_DICT:\n",
    "        params['marketType'] = MARKET_CODE_DICT[market]\n",
    "\n",
    "    if not delisted:\n",
    "        params['searchType'] = 13\n",
    "\n",
    "    params_string = urllib.parse.urlencode(params)\n",
    "    request_url = urllib.parse.urlunsplit(['http', DOWNLOAD_URL, '', params_string, ''])\n",
    "\n",
    "    df = pd.read_html(request_url, header=0)[0]\n",
    "    df.종목코드 = df.종목코드.map('{:06d}'.format)\n",
    "    \n",
    "    df = df.rename(index=str, \n",
    "              columns={'회사명':'company', \n",
    "                       '종목코드':'code', \n",
    "                       '업종':'category',\n",
    "                       '주요제품':'main_product', \n",
    "                       '상장일':'listed_date', \n",
    "                       '결산월':'settlement_month',\n",
    "                       '대표자명':'representative',\n",
    "                       '홈페이지':'homepage',\n",
    "                       '지역':'reigon'})\n",
    "\n",
    "    return df"
   ]
  },
  {
   "cell_type": "code",
   "execution_count": null,
   "metadata": {},
   "outputs": [],
   "source": [
    "kospi_stocks = download_stock_codes('kospi')\n",
    "kospi_stocks['suffix'] = 'KS'\n",
    "kospi_stocks['_id'] = kospi_stocks['code']\n",
    "kospi_stocks['update_date'] = datetime.datetime.now()\n",
    "kosdaq_stocks = download_stock_codes('kosdaq')\n",
    "kosdaq_stocks['suffix'] = 'KQ'\n",
    "kosdaq_stocks['_id'] = kosdaq_stocks['code']\n",
    "kosdaq_stocks['update_date'] = datetime.datetime.now()"
   ]
  },
  {
   "cell_type": "code",
   "execution_count": null,
   "metadata": {},
   "outputs": [],
   "source": [
    "_MONGO_USER='root'\n",
    "_MONGO_PASSWORD='example'\n",
    "_MONGO_HOST='docker.for.mac.localhost'\n",
    "_MONGO_PORT='27017'\n",
    "_MONGO_URI='mongodb://{}:{}@{}:{}'.format(_MONGO_USER, _MONGO_PASSWORD, _MONGO_HOST, _MONGO_PORT)"
   ]
  },
  {
   "cell_type": "code",
   "execution_count": null,
   "metadata": {},
   "outputs": [],
   "source": [
    "mongo_conn = pymongo.MongoClient(_MONGO_URI)\n",
    "db = mongo_conn.get_database('money')\n",
    "collection = db.get_collection('stock-code-new')"
   ]
  },
  {
   "cell_type": "code",
   "execution_count": null,
   "metadata": {},
   "outputs": [],
   "source": [
    "collection.insert_many(kospi_stocks.to_dict('records'))"
   ]
  },
  {
   "cell_type": "code",
   "execution_count": null,
   "metadata": {},
   "outputs": [],
   "source": [
    "collection.insert_many(kosdaq_stocks.to_dict('records'))"
   ]
  },
  {
   "cell_type": "code",
   "execution_count": null,
   "metadata": {},
   "outputs": [],
   "source": [
    "ticker_kospi = kospi_stocks['code'].apply(lambda code: '{}.{}'.format(code, 'KS')).tolist()\n",
    "ticker_kosdaq = kosdaq_stocks['code'].apply(lambda code: '{}.{}'.format(code, 'KQ')).tolist()"
   ]
  },
  {
   "cell_type": "code",
   "execution_count": null,
   "metadata": {},
   "outputs": [],
   "source": [
    "def chunks(l, n):\n",
    "    # For item i in a range that is a length of l,\n",
    "    for i in range(0, len(l), n):\n",
    "        # Create an index range for l of n items:\n",
    "        yield l[i:i+n]"
   ]
  },
  {
   "cell_type": "code",
   "execution_count": null,
   "metadata": {},
   "outputs": [],
   "source": [
    "chunked_kospi = list(chunks(ticker_kospi, 10))\n",
    "chunked_kosdaq = list(chunks(ticker_kosdaq, 100))"
   ]
  },
  {
   "cell_type": "code",
   "execution_count": null,
   "metadata": {},
   "outputs": [],
   "source": [
    "chunked_kosdaq[0]"
   ]
  },
  {
   "cell_type": "code",
   "execution_count": null,
   "metadata": {},
   "outputs": [],
   "source": [
    "from pandas_datareader import data\n",
    "import fix_yahoo_finance as yf\n",
    "yf.pdr_override()"
   ]
  },
  {
   "cell_type": "code",
   "execution_count": null,
   "metadata": {},
   "outputs": [],
   "source": [
    "def save_stock_price(tickers, start_date=\"1996-05-06\"):\n",
    "    \n",
    "    price_collection = db[\"stock-price-new\"]\n",
    "\n",
    "    tot_cnt = len(tickers)\n",
    "    print('total ticker count is {}'.format(tot_cnt))\n",
    "    \n",
    "    count = 0\n",
    "    \n",
    "    for ticker in tickers:\n",
    "        stock_price = data.get_data_yahoo(tickers=ticker, start=start_date, thread=10)\n",
    "        print(stock_price.columns.levels[0])\n",
    "        adj_stock_price = stock_price.stack().reset_index(level=[0,1])\n",
    "            \n",
    "        final_df = pd.DataFrame()\n",
    "        final_df['Date'] = pd.to_datetime(adj_stock_price['Date'])\n",
    "        final_df['Code'] = adj_stock_price['level_1'].astype('str')\n",
    "        final_df['Adj Close'] = pd.to_numeric(adj_stock_price['Adj Close'])\n",
    "        final_df['Close'] = pd.to_numeric(adj_stock_price['Close'])\n",
    "        final_df['High'] = pd.to_numeric(adj_stock_price['High'])\n",
    "        final_df['Low'] = pd.to_numeric(adj_stock_price['Low'])\n",
    "        final_df['Open'] = pd.to_numeric(adj_stock_price['Open'])\n",
    "        final_df['Volume'] = pd.to_numeric(adj_stock_price['Volume'])\n",
    "        final_df['date_str'] = pd.to_datetime(adj_stock_price['Date'], format='%Y%m%d').astype('str')\n",
    "        final_df['_id'] = final_df[['Code', 'date_str']].apply(lambda row : \"{}.{}\".format(row[0], row[1]), axis=1)\n",
    "        final_df = final_df.drop(columns=['date_str'])\n",
    "        print(final_df.count())\n",
    "        price_collection.insert_many(final_df.to_dict('records'))\n",
    "        final_df = final_df[0:0]\n",
    "        count += 1\n",
    "        print(\"ticker count is {}\".format(count*100))"
   ]
  },
  {
   "cell_type": "code",
   "execution_count": null,
   "metadata": {},
   "outputs": [],
   "source": [
    "save_stock_price(chunked_kospi)"
   ]
  },
  {
   "cell_type": "code",
   "execution_count": null,
   "metadata": {},
   "outputs": [],
   "source": [
    "save_stock_price(chunked_kosdaq)"
   ]
  },
  {
   "cell_type": "code",
   "execution_count": null,
   "metadata": {},
   "outputs": [],
   "source": []
  }
 ],
 "metadata": {
  "kernelspec": {
   "display_name": "Python 3",
   "language": "python",
   "name": "python3"
  },
  "language_info": {
   "codemirror_mode": {
    "name": "ipython",
    "version": 3
   },
   "file_extension": ".py",
   "mimetype": "text/x-python",
   "name": "python",
   "nbconvert_exporter": "python",
   "pygments_lexer": "ipython3",
   "version": "3.5.2"
  }
 },
 "nbformat": 4,
 "nbformat_minor": 2
}
